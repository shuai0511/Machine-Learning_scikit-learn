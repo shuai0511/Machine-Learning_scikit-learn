{
 "cells": [
  {
   "cell_type": "markdown",
   "metadata": {},
   "source": [
    "## 使用python、xgboost和sklearn的随机梯度提升"
   ]
  },
  {
   "cell_type": "markdown",
   "metadata": {},
   "source": [
    "用于集合决策树的简单技术涉及在训练数据集上的子样本采样。\n"
   ]
  },
  {
   "cell_type": "markdown",
   "metadata": {},
   "source": [
    "可以采用训练数据集中的行的子集来训练成为装袋的单个树，当在计算每个分裂点时也可以获取训练数据的行的子集时，这被称为随机森林。\n"
   ]
  },
  {
   "cell_type": "markdown",
   "metadata": {},
   "source": [
    "这些技术也可以在称为随机梯度提升的技术中用于梯度树增强模型。"
   ]
  },
  {
   "cell_type": "markdown",
   "metadata": {},
   "source": [
    "## 随机梯度提升"
   ]
  },
  {
   "cell_type": "markdown",
   "metadata": {},
   "source": [
    "* 梯度提升是一个贪婪的程序。\n",
    "* 降薪决策树添加到模型中以校正现有模型的残差。\n",
    "* 使用贪婪搜索的过程创建每个决策树，以选择最佳的最小化目标函数的分割点，这可能导致树一次又一次的使用相同的属性甚至相同的分裂点。\n",
    "* Bagging是一种技术，其中创建决策树的集合，每个决策树来自训练数据的不同行的随机子集，结果时，从树集合中获得了更高的表现，因为样本中的随机性允许创建略微不同的树，从而增加了集合预测的方差。\n",
    "* 通过允许在选择分割点是对特征列进行二次采样，随机森林更进一步，像书籍和添加了进一步的方差。\n",
    "* 这些相同的技术可用于在称为随机梯度提升的变化中的梯度提升中的决策树的构造中。\n",
    "* 通常使用训练数据的积极子样本，例如40%~80%。"
   ]
  },
  {
   "cell_type": "markdown",
   "metadata": {},
   "source": [
    "## 问题描述"
   ]
  },
  {
   "cell_type": "markdown",
   "metadata": {},
   "source": [
    "* 这里我们使用[Otto Group 产品分类挑战](https://www.kaggle.com/c/otto-group-product-classification-challenge)数据集。其可以从kaggle免费获得。你需要将解压狗的train.csv文件放入到你的工作目录。\n",
    "* 该数据描述了超过61000种产品的93哥模糊细节，这些产品分为10哥类别（例如时装、电子产品等）。输入属性是某种不同事件的计数。\n",
    "* 目标是对新产品做出预测，因为10哥类别中的每个类别都有一组概率，并且使用多类对数损失（也称交叉熵）来评价模型。\n",
    "* 该竞赛在2015年完成，对于xgboost来说是一个很好的挑战，因为其有很多实例，问题的难度以及需要很少数据准备的事实（除了将字符串类型变量编码为整数）。\n"
   ]
  },
  {
   "cell_type": "markdown",
   "metadata": {},
   "source": [
    "## 在xgboost中调整行子采样\n",
    "* 行子采样涉及选择训练数据集的随机样本而无需替换。\n",
    "* 行子采样可以在子样本参数中的xhboost类的sklearn包装器中指定，默认值为1.0，不进行子采样。"
   ]
  },
  {
   "cell_type": "code",
   "execution_count": 1,
   "metadata": {},
   "outputs": [
    {
     "name": "stderr",
     "output_type": "stream",
     "text": [
      "d:\\software\\anaconda\\Lib\\site-packages\\pandas\\core\\arrays\\masked.py:60: UserWarning: Pandas requires version '1.3.6' or newer of 'bottleneck' (version '1.3.5' currently installed).\n",
      "  from pandas.core import (\n"
     ]
    }
   ],
   "source": [
    "# XGBoost on Otto dataset, tune subsample\n",
    "from pandas import read_csv\n",
    "from xgboost import XGBClassifier\n",
    "from sklearn.model_selection import GridSearchCV\n",
    "from sklearn.model_selection import StratifiedKFold\n",
    "from sklearn.preprocessing import LabelEncoder\n",
    "import matplotlib\n",
    "matplotlib.use('Agg')\n",
    "from matplotlib import pyplot\n",
    "# load data\n",
    "data = read_csv('train.csv')\n",
    "dataset = data.values\n",
    "# split data into X and y\n",
    "X = dataset[:,0:94]\n",
    "y = dataset[:,94]\n",
    "# encode string class values as integers\n",
    "label_encoded_y = LabelEncoder().fit_transform(y)\n",
    "# grid search\n",
    "model = XGBClassifier()\n",
    "subsample = [0.1, 0.2, 0.3, 0.4, 0.5, 0.6, 0.7, 0.8, 1.0]\n",
    "param_grid = dict(subsample=subsample)\n",
    "kfold = StratifiedKFold(n_splits=10, shuffle=True, random_state=7)\n",
    "grid_search = GridSearchCV(model, param_grid, scoring=\"neg_log_loss\", n_jobs=-1, cv=kfold)\n",
    "grid_result = grid_search.fit(X, label_encoded_y)\n",
    "# summarize results\n",
    "print(\"Best: %f using %s\" % (grid_result.best_score_, grid_result.best_params_))\n",
    "means = grid_result.cv_results_['mean_test_score']\n",
    "stds = grid_result.cv_results_['std_test_score']\n",
    "params = grid_result.cv_results_['params']\n",
    "for mean, stdev, param in zip(means, stds, params):\n",
    "\tprint(\"%f (%f) with: %r\" % (mean, stdev, param))\n",
    "# plot\n",
    "pyplot.errorbar(subsample, means, yerr=stds)\n",
    "pyplot.title(\"XGBoost subsample vs Log Loss\")\n",
    "pyplot.xlabel('subsample')\n",
    "pyplot.ylabel('Log Loss')\n",
    "pyplot.savefig('subsample.png')"
   ]
  }
 ],
 "metadata": {
  "kernelspec": {
   "display_name": "base",
   "language": "python",
   "name": "python3"
  },
  "language_info": {
   "codemirror_mode": {
    "name": "ipython",
    "version": 3
   },
   "file_extension": ".py",
   "mimetype": "text/x-python",
   "name": "python",
   "nbconvert_exporter": "python",
   "pygments_lexer": "ipython3",
   "version": "3.11.4"
  }
 },
 "nbformat": 4,
 "nbformat_minor": 2
}
