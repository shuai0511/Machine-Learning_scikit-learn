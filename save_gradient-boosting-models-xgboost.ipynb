{
 "cells": [
  {
   "cell_type": "markdown",
   "metadata": {},
   "source": [
    "## 保存xgboost模型"
   ]
  },
  {
   "cell_type": "markdown",
   "metadata": {},
   "source": [
    "xgboost可以用于使用梯度提升算法为表格数据创建一些表现最佳的模型。\n"
   ]
  },
  {
   "cell_type": "markdown",
   "metadata": {},
   "source": [
    "经过训练，将模型保存为文件中以便以后用于预测新的测试和验证数据集以及全新数据通常是一种很好的做法。\n"
   ]
  },
  {
   "cell_type": "markdown",
   "metadata": {},
   "source": [
    "## 使用pickle序列化您的xgboost模型"
   ]
  },
  {
   "cell_type": "code",
   "execution_count": 29,
   "metadata": {},
   "outputs": [
    {
     "name": "stdout",
     "output_type": "stream",
     "text": [
      "ASccuracy: 72.83%\n"
     ]
    }
   ],
   "source": [
    "# 我们继续使用pima印第安人糖尿病数据集上训练xgboost模型，将模型保存到文件，然后加载它以做出预测。\n",
    "# Train xgboost model, save to file using pickle,load and make predictions\n",
    "from numpy import loadtxt\n",
    "import xgboost\n",
    "import pickle\n",
    "from sklearn.model_selection import train_test_split\n",
    "from sklearn.metrics import accuracy_score\n",
    "# load data\n",
    "dataset = loadtxt('pima-indians-diabetes.csv',delimiter=\",\",skiprows=1)\n",
    "# split data into x and y\n",
    "x = dataset[:,0:8]\n",
    "y = dataset[:,8]\n",
    "# split data into train and test\n",
    "x_train,x_test,y_train,y_test = train_test_split(x,y,test_size=0.33,random_state=7)\n",
    "# fit model on traing data\n",
    "model = xgboost.XGBClassifier()\n",
    "model.fit(x_train,y_train)\n",
    "# save model to file\n",
    "pickle.dump(model,open(\"pima.pickle.dat\",\"wb\"))\n",
    "# some time later\n",
    "# load model file\n",
    "load_model =pickle.load(open(\"pima.pickle.dat\",\"rb\"))\n",
    "# make predictions for test data\n",
    "y_pred = load_model.predict(x_test)\n",
    "predictions = [round(value) for value in y_pred]\n",
    "# evaluate predictions\n",
    "accuracy = accuracy_score(y_test,predictions)\n",
    "print(\"ASccuracy: %.2f%%\" % (accuracy*100))"
   ]
  },
  {
   "cell_type": "markdown",
   "metadata": {},
   "source": [
    "加载模型并对训练数据集做出预测后，打印出来的概率为72.83%"
   ]
  },
  {
   "cell_type": "markdown",
   "metadata": {},
   "source": [
    "## 使用joblib序列化保存xgboost模型"
   ]
  },
  {
   "cell_type": "markdown",
   "metadata": {},
   "source": [
    "joblib是scipy生态系统的一部分，并提供用于管道化的python作业的实用程序。\n"
   ]
  },
  {
   "cell_type": "markdown",
   "metadata": {},
   "source": [
    "joblib api提供了用于保存和加载有效利用numpy数据结构的python对象的实用程序，对于非常大的模型，使用它而可能是一种更快捷的方法。"
   ]
  },
  {
   "cell_type": "code",
   "execution_count": 30,
   "metadata": {},
   "outputs": [
    {
     "name": "stdout",
     "output_type": "stream",
     "text": [
      "ASccuracy: 72.83%\n"
     ]
    }
   ],
   "source": [
    "# 我们继续使用pima印第安人糖尿病数据集上训练xgboost模型，将模型保存到文件，然后加载它以做出预测。\n",
    "# Train xgboost model, save to file using joblib,load and make predictions\n",
    "from numpy import loadtxt\n",
    "import xgboost\n",
    "import joblib\n",
    "from sklearn.model_selection import train_test_split\n",
    "from sklearn.metrics import accuracy_score\n",
    "# load data\n",
    "dataset = loadtxt('pima-indians-diabetes.csv',delimiter=\",\",skiprows=1)\n",
    "# split data into x and y\n",
    "x = dataset[:,0:8]\n",
    "y = dataset[:,8]\n",
    "# split data into train and test\n",
    "x_train,x_test,y_train,y_test = train_test_split(x,y,test_size=0.33,random_state=7)\n",
    "# fit model on traing data\n",
    "model = xgboost.XGBClassifier()\n",
    "model.fit(x_train,y_train)\n",
    "# save model to file\n",
    "joblib.dump(model,\"pima.joblib.dat\")\n",
    "# some time later\n",
    "# load model file\n",
    "load_model =joblib.load(\"pima.joblib.dat\")\n",
    "# make predictions for test data\n",
    "y_pred = load_model.predict(x_test)\n",
    "predictions = [round(value) for value in y_pred]\n",
    "# evaluate predictions\n",
    "accuracy = accuracy_score(y_test,predictions)\n",
    "print(\"ASccuracy: %.2f%%\" % (accuracy*100))"
   ]
  },
  {
   "cell_type": "markdown",
   "metadata": {},
   "source": [
    "这里保存为了pima.joblib.dat,输出结果为72.83%。"
   ]
  }
 ],
 "metadata": {
  "kernelspec": {
   "display_name": "base",
   "language": "python",
   "name": "python3"
  },
  "language_info": {
   "codemirror_mode": {
    "name": "ipython",
    "version": 3
   },
   "file_extension": ".py",
   "mimetype": "text/x-python",
   "name": "python",
   "nbconvert_exporter": "python",
   "pygments_lexer": "ipython3",
   "version": "3.11.4"
  }
 },
 "nbformat": 4,
 "nbformat_minor": 2
}
